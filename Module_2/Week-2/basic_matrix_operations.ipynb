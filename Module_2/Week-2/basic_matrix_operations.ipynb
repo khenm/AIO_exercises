{
 "cells": [
  {
   "cell_type": "markdown",
   "metadata": {},
   "source": [
    "## 1. Basic operations on matrices and vectors"
   ]
  },
  {
   "cell_type": "code",
   "execution_count": 1,
   "metadata": {},
   "outputs": [],
   "source": [
    "import numpy as np"
   ]
  },
  {
   "cell_type": "code",
   "execution_count": 2,
   "metadata": {},
   "outputs": [
    {
     "data": {
      "text/plain": [
       "3.7416573867739413"
      ]
     },
     "execution_count": 2,
     "metadata": {},
     "output_type": "execute_result"
    }
   ],
   "source": [
    "# 1.1 \n",
    "def compute_vector_length(vector):\n",
    "    len_of_vector = np.linalg.norm(vector)\n",
    "    return len_of_vector\n",
    "\n",
    "vector = np.array([1, 2, 3])\n",
    "compute_vector_length(vector)"
   ]
  },
  {
   "cell_type": "code",
   "execution_count": 3,
   "metadata": {},
   "outputs": [
    {
     "data": {
      "text/plain": [
       "32"
      ]
     },
     "execution_count": 3,
     "metadata": {},
     "output_type": "execute_result"
    }
   ],
   "source": [
    "# 1.2 \n",
    "def compute_dot_product(vector1, vector2):\n",
    "    dot_result = vector1.dot(vector2)\n",
    "    return dot_result\n",
    "\n",
    "vector1 = np.array([1, 2, 3])\n",
    "vector2 = np.array([4, 5, 6])\n",
    "compute_dot_product(vector1, vector2)"
   ]
  },
  {
   "cell_type": "code",
   "execution_count": 4,
   "metadata": {},
   "outputs": [
    {
     "data": {
      "text/plain": [
       "array([14, 32])"
      ]
     },
     "execution_count": 4,
     "metadata": {},
     "output_type": "execute_result"
    }
   ],
   "source": [
    "# 1.3\n",
    "def matrix_multi_vector(matrix, vector):\n",
    "    dot_matrix_vector = np.dot(matrix, vector)\n",
    "    return dot_matrix_vector\n",
    "\n",
    "matrix = np.array([\n",
    "    [1, 2, 3],\n",
    "    [4, 5, 6]\n",
    "])\n",
    "vector = np.array([1, 2, 3])\n",
    "matrix_multi_vector(matrix, vector)"
   ]
  },
  {
   "cell_type": "code",
   "execution_count": 5,
   "metadata": {},
   "outputs": [
    {
     "data": {
      "text/plain": [
       "array([[28, 34],\n",
       "       [64, 79]])"
      ]
     },
     "execution_count": 5,
     "metadata": {},
     "output_type": "execute_result"
    }
   ],
   "source": [
    "# 1.4\n",
    "def matrix_multi_matrix(matrix1, matrix2):\n",
    "    mat_mul = np.matmul(matrix1, matrix2)\n",
    "    return mat_mul\n",
    "\n",
    "matrix1 = np.array([\n",
    "    [1, 2, 3],\n",
    "    [4, 5, 6]\n",
    "])\n",
    "matrix2 = np.array([\n",
    "    [2, 3],\n",
    "    [4, 5],\n",
    "    [6, 7]\n",
    "])\n",
    "matrix_multi_matrix(matrix1, matrix2)\n"
   ]
  },
  {
   "cell_type": "code",
   "execution_count": 6,
   "metadata": {},
   "outputs": [
    {
     "data": {
      "text/plain": [
       "array([[-2. ,  1. ],\n",
       "       [ 1.5, -0.5]])"
      ]
     },
     "execution_count": 6,
     "metadata": {},
     "output_type": "execute_result"
    }
   ],
   "source": [
    "# 1.5\n",
    "def inverse_matrix(matrix):\n",
    "    result = np.linalg.inv(matrix)\n",
    "    return result\n",
    "\n",
    "matrix = np.array([\n",
    "    [1, 2],\n",
    "    [3, 4]\n",
    "])\n",
    "inverse_matrix(matrix)"
   ]
  },
  {
   "cell_type": "markdown",
   "metadata": {},
   "source": [
    "Given a matrix $A \\in \\R^{2\\times 2}$: \n",
    "$$\n",
    "A = \\begin{bmatrix}\n",
    "-2 & 6\\\\\n",
    "8 & -4\n",
    "\\end{bmatrix}\n",
    "$$\n",
    "We can find $A^{-1}$ by the following steps:\n",
    "- Determinant: $det(A)=ad-bc=(-2)*(-4)-8*6=-40$\n",
    "- $det(A)\\ne 0$, then A is invertible\n",
    "- Inverse matrix:\n",
    "$$\n",
    "A^{-1} = \\frac{1}{det(A)} \\begin{bmatrix}\n",
    "-4 & -6\\\\\n",
    "-8 & -2\n",
    "\\end{bmatrix} \n",
    "= \\begin{bmatrix}\n",
    "0.1 & 0.15\\\\\n",
    "0.2 & 0.05\n",
    "\\end{bmatrix} \n",
    "$$\n"
   ]
  },
  {
   "cell_type": "code",
   "execution_count": 7,
   "metadata": {},
   "outputs": [
    {
     "data": {
      "text/plain": [
       "array([[0.1 , 0.15],\n",
       "       [0.2 , 0.05]])"
      ]
     },
     "execution_count": 7,
     "metadata": {},
     "output_type": "execute_result"
    }
   ],
   "source": [
    "# We can check the result by using inverse function\n",
    "matrix = np.array([\n",
    "    [-2, 6],\n",
    "    [8, -4]\n",
    "])\n",
    "inverse_matrix(matrix)"
   ]
  },
  {
   "cell_type": "markdown",
   "metadata": {},
   "source": [
    "## 2. Eigenvector and Eigenvalue"
   ]
  },
  {
   "cell_type": "markdown",
   "metadata": {},
   "source": [
    "Given matrix \n",
    "$$\n",
    "A = \\begin{bmatrix}\n",
    "0.9 & 0.2\\\\\n",
    "0.1 & 0.8\n",
    "\\end{bmatrix}\n",
    "$$\n",
    "- We can find the eigenvalue by using $det(A-\\lambda I)=0$, then\n",
    "$$\n",
    "A-\\lambda I = \\begin{bmatrix}\n",
    "0.9 & 0.2\\\\\n",
    "0.1 & 0.8\n",
    "\\end{bmatrix}- \\lambda \\begin{bmatrix}\n",
    "1 & 0\\\\\n",
    "0 & 1\n",
    "\\end{bmatrix} = \\begin{bmatrix}\n",
    "0.9- \\lambda & 0.2\\\\\n",
    "0.1 & 0.8- \\lambda\n",
    "\\end{bmatrix}\n",
    "$$\n",
    "Therefore, \n",
    "$$\n",
    "det(A-\\lambda I) = (0.9- \\lambda)*(0.8- \\lambda) - 0.1*0.2=\\lambda^2-1.7\\lambda+0.7=0\n",
    "$$\n",
    "$$\n",
    "\\implies \\lambda = 1; \\lambda = 0.7\n",
    "$$\n",
    "- Then, eigenvector: $Av=\\lambda v \\implies (A-\\lambda I)v=0$. We set 2 cases:\n",
    "Case 1: $\\lambda = 1$\n",
    "$$\n",
    "(A-\\lambda I)v=0 \\implies \\begin{bmatrix}\n",
    "-0.1 & 0.2\\\\\n",
    "0.1 & -0.2\n",
    "\\end{bmatrix} \\begin{bmatrix}\n",
    "x_1\\\\\n",
    "x_2\n",
    "\\end{bmatrix} = 0 \n",
    "$$\n",
    "$$\n",
    "\\implies \\begin{cases}\n",
    "        -0.1x_1 + 0.2x_2=0\\\\\n",
    "        0.1x_1 -0.2x_2=0\n",
    "    \\end{cases} \\implies v = \\begin{bmatrix}\n",
    "2 \\\\\n",
    "1\n",
    "\\end{bmatrix}\n",
    "$$\n",
    "\n",
    "Case 2: $\\lambda = 0.7$\n",
    "$$\n",
    "(A-\\lambda I)v=0 \\implies \\begin{bmatrix}\n",
    "0.2 & 0.2\\\\\n",
    "0.1 & 0.1\n",
    "\\end{bmatrix} \\begin{bmatrix}\n",
    "x_1\\\\\n",
    "x_2\n",
    "\\end{bmatrix} = 0 \n",
    "$$\n",
    "$$\n",
    "\\implies \\begin{cases}\n",
    "        0.2x_1 + 0.2x_2=0\\\\\n",
    "        0.1x_1 +0.1x_2=0\n",
    "    \\end{cases} \\implies v = \\begin{bmatrix}\n",
    "1 \\\\\n",
    "-1\n",
    "\\end{bmatrix}\n",
    "$$"
   ]
  },
  {
   "cell_type": "code",
   "execution_count": 12,
   "metadata": {},
   "outputs": [
    {
     "name": "stdout",
     "output_type": "stream",
     "text": [
      "[1.  0.7]\n",
      "[[ 0.89442719 -0.70710678]\n",
      " [ 0.4472136   0.70710678]]\n"
     ]
    }
   ],
   "source": [
    "def compute_eigenvalues_eigenvectors(matrix):\n",
    "    eigenvalues, eigenvectors = np.linalg.eig(matrix)\n",
    "    return eigenvalues, eigenvectors\n",
    "\n",
    "matrix = np.array([\n",
    "    [0.9, 0.2],\n",
    "    [0.1, 0.8]\n",
    "])\n",
    "eigval, eigvec = compute_eigenvalues_eigenvectors(matrix)\n",
    "print(eigval)\n",
    "print(eigvec)"
   ]
  },
  {
   "cell_type": "markdown",
   "metadata": {},
   "source": [
    "## 3. Cosine Similarity"
   ]
  },
  {
   "cell_type": "markdown",
   "metadata": {},
   "source": [
    "Given 2 vectors\n",
    "$$\n",
    "x=\\begin{bmatrix}\n",
    "1\\\\ 2 \\\\3 \\\\4\n",
    "\\end{bmatrix}; y=\\begin{bmatrix}\n",
    "1\\\\ 0 \\\\3 \\\\0\n",
    "\\end{bmatrix} \n",
    "$$\n",
    "The cosine similarity of x and y is:\n",
    "$$\n",
    "cos(x,y)=\\frac{x\\cdot y}{||x||\\cdot ||y||}=\\frac{1\\times 1+2\\times 0+3\\times 3+4\\times 0}{\\sqrt{1^2+2^2+3^2+4^2}\\times \\sqrt{1^2+0^2+3^2+0^2}}=\\frac{10}{10\\sqrt{3}}=\\frac{1}{\\sqrt{3}}\n",
    "$$"
   ]
  },
  {
   "cell_type": "code",
   "execution_count": 14,
   "metadata": {},
   "outputs": [
    {
     "data": {
      "text/plain": [
       "0.5773502691896257"
      ]
     },
     "execution_count": 14,
     "metadata": {},
     "output_type": "execute_result"
    }
   ],
   "source": [
    "def compute_cosine(v1, v2):\n",
    "    dot_product = compute_dot_product(v1, v2)\n",
    "    vector1_norm = compute_vector_length(v1)\n",
    "    vector2_norm = compute_vector_length(v2)\n",
    "    return dot_product/(vector1_norm*vector2_norm)\n",
    "\n",
    "x = np.array([1, 2, 3, 4])\n",
    "y = np.array([1, 0, 3, 0])\n",
    "compute_cosine(x, y)"
   ]
  }
 ],
 "metadata": {
  "kernelspec": {
   "display_name": "base",
   "language": "python",
   "name": "python3"
  },
  "language_info": {
   "codemirror_mode": {
    "name": "ipython",
    "version": 3
   },
   "file_extension": ".py",
   "mimetype": "text/x-python",
   "name": "python",
   "nbconvert_exporter": "python",
   "pygments_lexer": "ipython3",
   "version": "3.11.7"
  }
 },
 "nbformat": 4,
 "nbformat_minor": 2
}
