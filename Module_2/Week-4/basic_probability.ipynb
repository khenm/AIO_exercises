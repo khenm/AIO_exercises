{
 "cells": [
  {
   "cell_type": "code",
   "execution_count": 1,
   "metadata": {},
   "outputs": [
    {
     "name": "stdout",
     "output_type": "stream",
     "text": [
      "Mean:  1.8\n"
     ]
    }
   ],
   "source": [
    "# compute mean \n",
    "import numpy as np\n",
    "\n",
    "def compute_mean(X):\n",
    "    return np.sum(X)/len(X)\n",
    "\n",
    "X = [2, 0, 2, 2, 7, 4, -2, 5, -1, -1]\n",
    "print('Mean: ', compute_mean(X))"
   ]
  },
  {
   "cell_type": "code",
   "execution_count": 2,
   "metadata": {},
   "outputs": [
    {
     "name": "stdout",
     "output_type": "stream",
     "text": [
      "Median:  4.5\n"
     ]
    }
   ],
   "source": [
    "# compute median\n",
    "import numpy as np\n",
    "\n",
    "def compute_median(X):\n",
    "    size = len(X)\n",
    "    X = np.sort(X)\n",
    "    if (size % 2 == 0):\n",
    "        return (X[(size // 2)] + X[(size // 2) - 1]) / 2 \n",
    "    else:\n",
    "        return X[size + 1 // 2]\n",
    "\n",
    "X = [1, 5, 4, 4, 9, 13]\n",
    "print(\"Median: \", compute_median(X))"
   ]
  },
  {
   "cell_type": "code",
   "execution_count": 4,
   "metadata": {},
   "outputs": [
    {
     "name": "stdout",
     "output_type": "stream",
     "text": [
      "8.32666399786453\n"
     ]
    }
   ],
   "source": [
    "# compute standard deviation\n",
    "def compute_std(X):\n",
    "    mean = compute_mean(X)\n",
    "    variance = 0\n",
    "    for i in X:\n",
    "        variance += (i - mean) ** 2\n",
    "    variance /= len(X)\n",
    "    return np.sqrt(variance)\n",
    "\n",
    "X = [171, 176, 155, 167, 169, 182]\n",
    "print(compute_std(X))"
   ]
  },
  {
   "cell_type": "code",
   "execution_count": 7,
   "metadata": {},
   "outputs": [
    {
     "name": "stdout",
     "output_type": "stream",
     "text": [
      "Correlation:  0.42\n"
     ]
    }
   ],
   "source": [
    "# compute correlation coefficient\n",
    "def compute_correlation_coefficient(X, Y):\n",
    "    N = len(X)\n",
    "    numerator = 0\n",
    "    denominator = 0\n",
    "    \n",
    "    # numerator\n",
    "    sum_X = np.sum(X)\n",
    "    sum_Y = np.sum(Y)\n",
    "    sum_X_prod_Y = np.dot(X, Y)\n",
    "    numerator = N * sum_X_prod_Y - (sum_X * sum_Y)\n",
    "    \n",
    "    # denominator\n",
    "    sum_X_squared = np.dot(X, X)\n",
    "    sum_Y_squared = np.dot(Y, Y)\n",
    "    denominator_X = np.sqrt(N * sum_X_squared - (sum_X ** 2))\n",
    "    denominator_Y = np.sqrt(N * sum_Y_squared - (sum_Y ** 2))\n",
    "    denominator = denominator_X * denominator_Y\n",
    "    return np.round(numerator / denominator, 2)\n",
    "\n",
    "X = np.asarray([-2, -5, -11, 6, 4, 15, 9])\n",
    "Y = np.asarray([4, 25, 121, 36, 16, 225, 81])\n",
    "print(\"Correlation: \", compute_correlation_coefficient(X, Y))"
   ]
  }
 ],
 "metadata": {
  "kernelspec": {
   "display_name": "base",
   "language": "python",
   "name": "python3"
  },
  "language_info": {
   "codemirror_mode": {
    "name": "ipython",
    "version": 3
   },
   "file_extension": ".py",
   "mimetype": "text/x-python",
   "name": "python",
   "nbconvert_exporter": "python",
   "pygments_lexer": "ipython3",
   "version": "3.12.4"
  }
 },
 "nbformat": 4,
 "nbformat_minor": 2
}
