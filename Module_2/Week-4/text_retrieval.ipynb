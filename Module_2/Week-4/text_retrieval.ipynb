{
 "cells": [
  {
   "cell_type": "markdown",
   "metadata": {},
   "source": [
    "### Text Retrieval"
   ]
  },
  {
   "cell_type": "code",
   "execution_count": 1,
   "metadata": {},
   "outputs": [
    {
     "data": {
      "text/plain": [
       "0.31126580760710637"
      ]
     },
     "execution_count": 1,
     "metadata": {},
     "output_type": "execute_result"
    }
   ],
   "source": [
    "import pandas as pd\n",
    "import numpy as np\n",
    "from sklearn.metrics.pairwise import cosine_similarity\n",
    "from sklearn.feature_extraction.text import TfidfVectorizer\n",
    "\n",
    "vi_data_df = pd.read_csv('./vi_text_retrieval.csv')\n",
    "context = vi_data_df['text']\n",
    "context = [doc.lower() for doc in context]\n",
    "\n",
    "tfidf_vectorizer = TfidfVectorizer()\n",
    "context_embedded = tfidf_vectorizer.fit_transform(context)\n",
    "context_embedded.toarray()[7][0]"
   ]
  },
  {
   "cell_type": "code",
   "execution_count": 2,
   "metadata": {},
   "outputs": [
    {
     "data": {
      "text/plain": [
       "0.6279910475266974"
      ]
     },
     "execution_count": 2,
     "metadata": {},
     "output_type": "execute_result"
    }
   ],
   "source": [
    "def tfidf_search(question, tfidf_vectorizer, top_d=5):\n",
    "    # lowercasting before encoding\n",
    "    query_embedded = tfidf_vectorizer.transform([question.lower()])\n",
    "    cosine_scores = cosine_similarity(context_embedded, query_embedded).flatten()\n",
    "    \n",
    "    # get top k cosine scores and its indices \n",
    "    results = []\n",
    "    for idx in cosine_scores.argsort()[-top_d:][::-1]:\n",
    "        doc_score = {\n",
    "            'idx': idx,\n",
    "            'cosine_score': cosine_scores[idx]\n",
    "        }\n",
    "        results.append(doc_score)\n",
    "    return results\n",
    "\n",
    "question = vi_data_df.iloc[0]['question']\n",
    "results = tfidf_search(question, tfidf_vectorizer)\n",
    "results[0]['cosine_score']"
   ]
  },
  {
   "cell_type": "code",
   "execution_count": 9,
   "metadata": {},
   "outputs": [
    {
     "data": {
      "text/plain": [
       "0.2073424647197336"
      ]
     },
     "execution_count": 9,
     "metadata": {},
     "output_type": "execute_result"
    }
   ],
   "source": [
    "def corr_search(question, tfidf_vectorizer, top_d=5):\n",
    "    # lowercasting before encoding\n",
    "    query_embedded  = tfidf_vectorizer.transform([question.lower()])\n",
    "    corr_scores = np.corrcoef(query_embedded.toarray()[0], context_embedded.toarray())\n",
    "    corr_scores = corr_scores[0][1:]\n",
    "    \n",
    "    # get top k corr score and its index\n",
    "    results = []\n",
    "    for idx in corr_scores.argsort()[::-1][:top_d]:\n",
    "        doc_score = {\n",
    "            'idx': idx,\n",
    "            'corr_score': corr_scores[idx]\n",
    "        }\n",
    "        results.append(doc_score)\n",
    "    return results\n",
    "\n",
    "question = vi_data_df.iloc[0]['question']\n",
    "results = corr_search(question, tfidf_vectorizer)\n",
    "results[1]['corr_score']"
   ]
  }
 ],
 "metadata": {
  "kernelspec": {
   "display_name": "base",
   "language": "python",
   "name": "python3"
  },
  "language_info": {
   "codemirror_mode": {
    "name": "ipython",
    "version": 3
   },
   "file_extension": ".py",
   "mimetype": "text/x-python",
   "name": "python",
   "nbconvert_exporter": "python",
   "pygments_lexer": "ipython3",
   "version": "3.12.4"
  }
 },
 "nbformat": 4,
 "nbformat_minor": 2
}
