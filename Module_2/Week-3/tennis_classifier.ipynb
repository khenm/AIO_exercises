{
 "cells": [
  {
   "cell_type": "markdown",
   "metadata": {},
   "source": [
    "### Tennis Classifier based on Naive Bayes"
   ]
  },
  {
   "cell_type": "code",
   "execution_count": 2,
   "metadata": {},
   "outputs": [
    {
     "name": "stdout",
     "output_type": "stream",
     "text": [
      "[['Sunny' 'Hot' 'High' 'Weak' 'No']\n",
      " ['Sunny' 'Hot' 'High' 'Strong' 'No']\n",
      " ['Overcast' 'Hot' 'High' 'Weak' 'Yes']\n",
      " ['Rain' 'Mild' 'High' 'Weak' 'Yes']\n",
      " ['Rain' 'Cool' 'Normal' 'Weak' 'Yes']\n",
      " ['Rain' 'Cool' 'Normal' 'Strong' 'No']\n",
      " ['Overcast' 'Cool' 'Normal' 'Strong' 'Yes']\n",
      " ['Overcast' 'Mild' 'High' 'Weak' 'No']\n",
      " ['Sunny' 'Cool' 'Normal' 'Weak' 'Yes']\n",
      " ['Rain' 'Mild' 'Normal' 'Weak' 'Yes']]\n"
     ]
    }
   ],
   "source": [
    "# Create data\n",
    "import numpy as np\n",
    "\n",
    "filepath = './data.txt'\n",
    "\n",
    "def create_train_data(filepath):\n",
    "    data = []\n",
    "    with open(filepath, 'r') as file:\n",
    "        lines = file.readlines()\n",
    "        data = [line.strip().split() for line in lines]\n",
    "    data = np.array(data)\n",
    "    return data\n",
    "\n",
    "train_data = create_train_data(filepath=filepath)\n",
    "print(train_data)"
   ]
  },
  {
   "cell_type": "code",
   "execution_count": 3,
   "metadata": {},
   "outputs": [
    {
     "name": "stdout",
     "output_type": "stream",
     "text": [
      "P(play tennis = No) =  0.4\n",
      "P(play tennis = Yes) =  0.6\n"
     ]
    }
   ],
   "source": [
    "def compute_prior_probability(train_data):\n",
    "    y_unique = ['No', 'Yes']\n",
    "    prior_probability = np.zeros(len(y_unique))\n",
    "    train_class = train_data[:, -1]\n",
    "    sample_space = len(train_class)\n",
    "    prior_probability[0] = len(train_class[train_class == y_unique[0]]) / sample_space\n",
    "    prior_probability[1] = len(train_class[train_class == y_unique[1]]) / sample_space\n",
    "    return prior_probability\n",
    "\n",
    "prior_probability = compute_prior_probability(train_data=train_data)\n",
    "print(\"P(play tennis = No) = \", prior_probability[0])\n",
    "print(\"P(play tennis = Yes) = \", prior_probability[1])"
   ]
  },
  {
   "cell_type": "code",
   "execution_count": 4,
   "metadata": {},
   "outputs": [
    {
     "name": "stdout",
     "output_type": "stream",
     "text": [
      "[[[0.25, 0.3333], [0.25, 0.5], [0.5, 0.1667]], [[0.25, 0.5], [0.5, 0.1667], [0.25, 0.3333]], [[0.75, 0.3333], [0.25, 0.6667]], [[0.5, 0.1667], [0.5, 0.8333]]]\n"
     ]
    }
   ],
   "source": [
    "def compute_conditional_probability(train_data):\n",
    "    y_unique = ['No', 'Yes']\n",
    "    train_class = train_data[:, -1]\n",
    "    conditional_probability = []\n",
    "    list_x_name = []\n",
    "    for i in range(0, train_data.shape[1] - 1):\n",
    "        sample = train_data[:, i]\n",
    "        x_unique = np.unique(sample)\n",
    "        list_x_name.append(x_unique)\n",
    "        \n",
    "        x_conditional_probability = []\n",
    "        for x in x_unique:\n",
    "            each_prob = []\n",
    "            for y in y_unique:\n",
    "                count_x_if_y = np.sum((sample == x) & (train_class == y))\n",
    "                count_y = np.sum(train_class == y)\n",
    "                if count_y == 0:\n",
    "                    prob = 0\n",
    "                else:\n",
    "                    prob = round(count_x_if_y / count_y, 4)\n",
    "                each_prob.append(prob)\n",
    "            x_conditional_probability.append(each_prob)\n",
    "        conditional_probability.append(x_conditional_probability)\n",
    "        \n",
    "    return conditional_probability, list_x_name\n",
    "\n",
    "likelihood, list_x_name = compute_conditional_probability(train_data=train_data)\n",
    "print(likelihood)"
   ]
  },
  {
   "cell_type": "code",
   "execution_count": 14,
   "metadata": {},
   "outputs": [
    {
     "name": "stdout",
     "output_type": "stream",
     "text": [
      "0 1 2\n"
     ]
    }
   ],
   "source": [
    "def get_index_from_value(feature_name, list_features):\n",
    "    return np.nonzero(feature_name == list_features)[0][0]\n",
    "\n",
    "outlook = list_x_name[0]\n",
    "\n",
    "i1 = get_index_from_value('Overcast', outlook)\n",
    "i2 = get_index_from_value('Rain', outlook)\n",
    "i3 = get_index_from_value('Sunny', outlook)\n",
    "\n",
    "print(i1, i2, i3)"
   ]
  },
  {
   "cell_type": "code",
   "execution_count": 9,
   "metadata": {},
   "outputs": [
    {
     "name": "stdout",
     "output_type": "stream",
     "text": [
      "P(Outlook = \"Sunny\" | Play = \"Yes\") =  0.1667\n",
      "P(Outlook = \"Sunny\" | Play = \"No\") =  0.5\n"
     ]
    }
   ],
   "source": [
    "# Compute P(Outlook = Sunny | Play = 'Yes')\n",
    "x1 = get_index_from_value('Sunny', outlook)\n",
    "print('P(Outlook = \"Sunny\" | Play = \"Yes\") = ', likelihood[0][x1][1])\n",
    "\n",
    "x1 = get_index_from_value('Sunny', outlook)\n",
    "print('P(Outlook = \"Sunny\" | Play = \"No\") = ', likelihood[0][x1][0])"
   ]
  },
  {
   "cell_type": "code",
   "execution_count": 31,
   "metadata": {},
   "outputs": [],
   "source": [
    "def train_naive_bayes(train_data):\n",
    "    # Step 1 -- Calculate Prior Probability\n",
    "    prior_probability = compute_prior_probability(train_data)\n",
    "    \n",
    "    # Step 2 -- Calculate Conditional Probability \n",
    "    likelihood, list_x_name = compute_conditional_probability(train_data=train_data)\n",
    "    \n",
    "    return prior_probability, likelihood, list_x_name"
   ]
  },
  {
   "cell_type": "code",
   "execution_count": 32,
   "metadata": {},
   "outputs": [],
   "source": [
    "def prediction_play_tennis(x, list_x_name, prior_probability, likelihood):\n",
    "    p0 = 1\n",
    "    p1 = 1\n",
    "    \n",
    "    # using Maximum A Posterior (MAP), we have \n",
    "    for i in range(len(likelihood)):\n",
    "        x_index = get_index_from_value(x[i], list_x_name[i])\n",
    "        p0 *= likelihood[i][x_index][0]\n",
    "        p1 *= likelihood[i][x_index][1]\n",
    "    \n",
    "    p0 *= prior_probability[0]\n",
    "    p1 *= prior_probability[1]\n",
    "    \n",
    "    if p0 > p1:\n",
    "        y_pred = 0\n",
    "    else:\n",
    "        y_pred = 1\n",
    "    return y_pred"
   ]
  },
  {
   "cell_type": "code",
   "execution_count": 34,
   "metadata": {},
   "outputs": [
    {
     "name": "stdout",
     "output_type": "stream",
     "text": [
      "Ad should not go!\n"
     ]
    }
   ],
   "source": [
    "x = ['Sunny', 'Cool', 'High', 'Strong']\n",
    "data = create_train_data(filepath=filepath)\n",
    "prior_probability, likelihood, list_x_name = train_naive_bayes(data)\n",
    "pred = prediction_play_tennis(x, list_x_name, likelihood=likelihood, prior_probability=prior_probability)\n",
    "if pred:\n",
    "    print('Ad should go!')\n",
    "else:\n",
    "    print('Ad should not go!')"
   ]
  }
 ],
 "metadata": {
  "kernelspec": {
   "display_name": "base",
   "language": "python",
   "name": "python3"
  },
  "language_info": {
   "codemirror_mode": {
    "name": "ipython",
    "version": 3
   },
   "file_extension": ".py",
   "mimetype": "text/x-python",
   "name": "python",
   "nbconvert_exporter": "python",
   "pygments_lexer": "ipython3",
   "version": "3.11.7"
  }
 },
 "nbformat": 4,
 "nbformat_minor": 2
}
